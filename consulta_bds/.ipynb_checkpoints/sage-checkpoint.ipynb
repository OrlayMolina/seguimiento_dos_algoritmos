{
 "cells": [
  {
   "cell_type": "code",
   "execution_count": null,
   "id": "2fd212e1-6393-4b9c-a9de-75dabe076c33",
   "metadata": {},
   "outputs": [],
   "source": [
    "# Iniciar el navegador\n",
    "driver = webdriver.Chrome(options=chrome_options)\n",
    "\n",
    "# Abrir la URL\n",
    "url1 = 'https://login.intelproxy.com/v2/inicio?cuenta=7Ah6RNpGWF22jjyq'\n",
    "driver.get(url1)"
   ]
  },
  {
   "cell_type": "code",
   "execution_count": null,
   "id": "15911aa5-9fbc-4a47-92c9-4a8484ea592d",
   "metadata": {},
   "outputs": [],
   "source": [
    "time.sleep(5)"
   ]
  },
  {
   "cell_type": "code",
   "execution_count": null,
   "id": "64abfc31-a75d-46bc-881f-24a170d98055",
   "metadata": {},
   "outputs": [],
   "source": [
    "login_button2 = WebDriverWait(driver, 20).until(\n",
    "        EC.element_to_be_clickable((By.XPATH, \"/html/body/div/div/div/div[1]/div[2]/a\")))\n",
    "login_button2.click()"
   ]
  },
  {
   "cell_type": "code",
   "execution_count": null,
   "id": "3dd38505-ffb8-4b9e-8500-8d8c433dec79",
   "metadata": {},
   "outputs": [],
   "source": [
    "time.sleep(3)"
   ]
  },
  {
   "cell_type": "code",
   "execution_count": null,
   "id": "82e4ec4d-99ba-4b3f-b7a3-327a876412df",
   "metadata": {},
   "outputs": [],
   "source": [
    "email_input = WebDriverWait(driver, 10).until(\n",
    "    EC.element_to_be_clickable((By.ID, \"identifierId\"))\n",
    ")\n",
    "\n",
    "email_input.send_keys(correo)\n",
    "email_input.send_keys(Keys.RETURN)"
   ]
  },
  {
   "cell_type": "code",
   "execution_count": null,
   "id": "aa32c911-0030-4b57-adc9-2db1c8de65ec",
   "metadata": {},
   "outputs": [],
   "source": [
    "time.sleep(3)"
   ]
  },
  {
   "cell_type": "code",
   "execution_count": null,
   "id": "bae6e3af-9269-4f20-83aa-eec4f5f0eba4",
   "metadata": {},
   "outputs": [],
   "source": [
    "password_input = WebDriverWait(driver, 20).until(\n",
    "    EC.element_to_be_clickable((By.NAME, \"Passwd\"))\n",
    ")# Nombre del campo de contraseña\n",
    "password_input.send_keys(password)\n",
    "password_input.send_keys(Keys.RETURN)"
   ]
  },
  {
   "cell_type": "code",
   "execution_count": null,
   "id": "9bc4d43d-cbad-444b-ae8c-9adac43002d7",
   "metadata": {},
   "outputs": [],
   "source": [
    "# Buscar el botón por su XPath\n",
    "boton = WebDriverWait(driver, 15).until(\n",
    "    EC.element_to_be_clickable((By.XPATH, \"/html/body/div[3]/div[2]/div[3]/div/div[2]/div/main/div[1]/div[5]/div/details[7]/summary\"))\n",
    ")\n",
    "\n",
    "time.sleep(10)\n",
    "\n",
    "boton.click()\n",
    "\n",
    "print(\"Botón presionado exitosamente\")"
   ]
  },
  {
   "cell_type": "code",
   "execution_count": null,
   "id": "84daf575-dcd5-4423-a0f3-0e40e2d4b2a7",
   "metadata": {},
   "outputs": [],
   "source": [
    "# Buscar el enlace por su XPath\n",
    "enlaceSage = WebDriverWait(driver, 15).until(\n",
    "    EC.element_to_be_clickable((By.XPATH, \"/html/body/div[3]/div[2]/div[3]/div/div[2]/div/main/div[1]/div[5]/div/details[7]/div/article[16]/div/div/h3/a\"))\n",
    ")"
   ]
  },
  {
   "cell_type": "code",
   "execution_count": null,
   "id": "4021cdc5-d3a0-4d72-ae21-1ed7941df22d",
   "metadata": {},
   "outputs": [],
   "source": [
    "# Hacer clic en el enlace\n",
    "enlaceSage.click()"
   ]
  },
  {
   "cell_type": "code",
   "execution_count": null,
   "id": "781ca761-6610-42e5-b076-f8351ab7e65c",
   "metadata": {},
   "outputs": [],
   "source": [
    "try:\n",
    "    # Esperar a que aparezca el botón de aceptar/cerrar cookies\n",
    "    boton_cookiesSage = WebDriverWait(driver, 20).until(\n",
    "        EC.element_to_be_clickable((By.ID, \"onetrust-accept-btn-handler\"))  # Usa el XPath correcto\n",
    "    )\n",
    "    boton_cookiesSage.click()\n",
    "    print(\"Se cerró la ventana de cookies.\")\n",
    "except:\n",
    "    print(\"⚠ No apareció la ventana de cookies o ya estaba cerrada.\")"
   ]
  },
  {
   "cell_type": "code",
   "execution_count": null,
   "id": "03540c3b-9fc7-4b66-94c1-491f2e2bd7b6",
   "metadata": {},
   "outputs": [],
   "source": [
    "# Esperar a que la barra de búsqueda esté en el DOM\n",
    "barra_busquedaSage = WebDriverWait(driver, 15).until(\n",
    "    EC.presence_of_element_located((By.XPATH, \"/html/body/div[2]/div/div/div[1]/main/div/div[1]/section/div/div/div/div/div/div/div/div[2]/div/div/div/form/div/input\"))\n",
    ")"
   ]
  },
  {
   "cell_type": "code",
   "execution_count": null,
   "id": "1eb05656-7ba6-40fe-b41a-718ea111ce9e",
   "metadata": {},
   "outputs": [],
   "source": [
    "# Escribir \"computational thinking\"\n",
    "barra_busquedaSage.send_keys('\"computational thinking\"')"
   ]
  },
  {
   "cell_type": "code",
   "execution_count": null,
   "id": "aa2b6671-dda5-408f-b52c-d581934d76c0",
   "metadata": {},
   "outputs": [],
   "source": [
    "# Esperar a que el botón de búsqueda esté clickeable\n",
    "boton_buscarSage = WebDriverWait(driver, 10).until(\n",
    "    EC.element_to_be_clickable((By.XPATH, \"/html/body/div[2]/div/div/div[1]/main/div/div[1]/section/div/div/div/div/div/div/div/div[2]/div/div/div/form/button\"))\n",
    ")"
   ]
  },
  {
   "cell_type": "code",
   "execution_count": null,
   "id": "4d53943e-1d9b-4ae3-aa3a-276dbc63e998",
   "metadata": {},
   "outputs": [],
   "source": [
    "boton_buscarSage.click()"
   ]
  },
  {
   "cell_type": "code",
   "execution_count": null,
   "id": "a83b041c-65a4-4c52-8684-eb9542aecf06",
   "metadata": {},
   "outputs": [],
   "source": [
    "time.sleep(15)"
   ]
  },
  {
   "cell_type": "code",
   "execution_count": null,
   "id": "ab7f29c0-470f-4b71-8388-363fe94eb4b5",
   "metadata": {},
   "outputs": [],
   "source": [
    "try:\n",
    "    # Esperar a que aparezca el botón de aceptar/cerrar cookies\n",
    "    boton_cookiesSage = WebDriverWait(driver, 20).until(\n",
    "        EC.element_to_be_clickable((By.ID, \"onetrust-accept-btn-handler\"))  # Usa el XPath correcto\n",
    "    )\n",
    "    boton_cookiesSage.click()\n",
    "    print(\"Se cerró la ventana de cookies.\")\n",
    "except:\n",
    "    print(\"⚠ No apareció la ventana de cookies o ya estaba cerrada.\")"
   ]
  },
  {
   "cell_type": "code",
   "execution_count": null,
   "id": "74dba64c-527c-4524-aa56-1006de007270",
   "metadata": {},
   "outputs": [],
   "source": [
    "\n",
    "\n",
    "# Bucle para navegar a través de 20 páginas\n",
    "for page_numSage in range(1, 21):\n",
    "    print(f\"Procesando página {page_numSage} de 20...\")\n",
    "\n",
    "    # Esperar a que el checkbox esté presente y clickeable\n",
    "    try:\n",
    "        checkboxSage = WebDriverWait(driver, 15).until(\n",
    "            EC.presence_of_element_located((By.XPATH, '/html/body/div[2]/div/div/main/div[1]/div/div/div/div[2]/div[4]/div[2]/div/div[1]/input'))\n",
    "        )\n",
    "        \n",
    "        if not checkboxSage.is_selected():\n",
    "            driver.execute_script(\"arguments[0].click();\", checkboxSage)  # Forzar clic con JS\n",
    "            time.sleep(1)\n",
    "    except Exception as e:\n",
    "        print(f\"⚠️ Error al seleccionar checkbox en página {page_numSage}: {e}\")\n",
    "        continue  \n",
    "\n",
    "    # Esperar y hacer clic en el botón de exportación\n",
    "    try:\n",
    "        enlaceExportSage = WebDriverWait(driver, 15).until(\n",
    "            EC.element_to_be_clickable((By.XPATH, \"/html/body/div[2]/div/div/main/div[1]/div/div/div/div[2]/div[4]/div[2]/div/div[2]/a\"))\n",
    "        )\n",
    "        enlaceExportSage.click()\n",
    "        time.sleep(2)\n",
    "    except Exception as e:\n",
    "        print(f\"⚠️ Error al hacer clic en export en página {page_numSage}: {e}\")\n",
    "        continue\n",
    "\n",
    "    # Esperar y seleccionar Citations\n",
    "    try:\n",
    "        barraTipoDato = WebDriverWait(driver, 15).until(\n",
    "            EC.visibility_of_element_located((By.XPATH, \"/html/body/div[2]/div/div/main/div[1]/div/div/div/div[3]/div/div/div/div/div[2]/div/form/div[1]/select/option[3]\"))\n",
    "        )\n",
    "        barraTipoDato.click()\n",
    "        time.sleep(2)\n",
    "    except Exception as e:\n",
    "        print(f\"⚠️ Error al seleccionar Citations en página {page_numSage}: {e}\")\n",
    "        try:\n",
    "            driver.find_element(By.XPATH, \"/html/body/div[2]/div/div/main/div[1]/div/div/div/div[3]/div/div/div/div/div[1]/button\").click()\n",
    "        except:\n",
    "            pass\n",
    "        continue  \n",
    "\n",
    "    # Esperar y hacer clic en el botón de descarga\n",
    "    try:\n",
    "        download_button = WebDriverWait(driver, 15).until(\n",
    "            EC.element_to_be_clickable((By.XPATH, \"/html/body/div[2]/div/div/main/div[1]/div/div/div/div[3]/div/div/div/div/div[3]/a\"))\n",
    "        )\n",
    "\n",
    "        intentos_descarga = 0\n",
    "        while intentos_descarga < 3:\n",
    "            download_button.click()\n",
    "            print(f\"Intento de descarga #{intentos_descarga+1} para página {page_numSage}\")\n",
    "\n",
    "            nuevo_archivo = esperar_descarga(download_path, 20)\n",
    "\n",
    "            if nuevo_archivo:\n",
    "                print(f\"✅ Descarga exitosa para página {page_numSage}: {os.path.basename(nuevo_archivo)}\")\n",
    "                nuevo_nombre = f\"sage_{page_numSage}.bib\"\n",
    "                try:\n",
    "                    os.rename(nuevo_archivo, os.path.join(download_path, nuevo_nombre))\n",
    "                    print(f\"Archivo renombrado a: {nuevo_nombre}\")\n",
    "                except Exception as e:\n",
    "                    print(f\"Error al renombrar archivo: {e}\")\n",
    "                break  \n",
    "\n",
    "            intentos_descarga += 1\n",
    "\n",
    "        if intentos_descarga >= 3:\n",
    "            print(f\"❌ No se pudo completar la descarga para la página {page_numSage}\")\n",
    "\n",
    "    except Exception as e:\n",
    "        print(f\"⚠️ Error en el proceso de descarga en página {page_numSage}: {e}\")\n",
    "\n",
    "    # Cerrar la ventana de descarga\n",
    "    try:\n",
    "        cerrarVentana_link = WebDriverWait(driver, 15).until(\n",
    "            EC.element_to_be_clickable((By.XPATH, \"/html/body/div[2]/div/div/main/div[1]/div/div/div/div[3]/div/div/div/div/div[1]/button\"))\n",
    "        )\n",
    "        cerrarVentana_link.click()\n",
    "        time.sleep(2)\n",
    "    except Exception as e:\n",
    "        print(f\"⚠️ Error al cerrar la ventana en página {page_numSage}: {e}\")\n",
    "        try:\n",
    "            ActionChains(driver).send_keys(Keys.ESCAPE).perform()\n",
    "        except:\n",
    "            pass\n",
    "\n",
    "    # 📌 VERIFICACIÓN: Esperar a que el botón \"Siguiente\" esté disponible antes de hacer clic\n",
    "    if page_numSage < 20:  # Si estamos en la última página, NO hacemos clic en \"Siguiente\"\n",
    "        try:\n",
    "            botonSiguientePag = WebDriverWait(driver, 15).until(\n",
    "                EC.element_to_be_clickable((By.XPATH, \"/html/body/div[2]/div/div/main/div[1]/div/div/div/div[2]/nav/ul/li[9]/a\"))\n",
    "            )\n",
    "            botonSiguientePag.click()\n",
    "            print(f\"🔄 Avanzando a la página {page_numSage + 1}...\")\n",
    "            time.sleep(5)  # Esperar un poco para asegurar que la página cambia\n",
    "        except Exception as e:\n",
    "            print(f\"⚠️ No se pudo hacer clic en 'Siguiente' en página {page_numSage}: {e}\")\n",
    "\n",
    "print(\"✅ ¡Proceso completado! Se han intentado descargar los datos de 20 páginas.\")"
   ]
  },
  {
   "cell_type": "code",
   "execution_count": null,
   "id": "db7f9bab-22d0-422d-bb0e-abce0dafee59",
   "metadata": {},
   "outputs": [],
   "source": [
    "driver.quit()"
   ]
  }
 ],
 "metadata": {
  "kernelspec": {
   "display_name": "Python 3 (ipykernel)",
   "language": "python",
   "name": "python3"
  },
  "language_info": {
   "codemirror_mode": {
    "name": "ipython",
    "version": 3
   },
   "file_extension": ".py",
   "mimetype": "text/x-python",
   "name": "python",
   "nbconvert_exporter": "python",
   "pygments_lexer": "ipython3",
   "version": "3.13.2"
  }
 },
 "nbformat": 4,
 "nbformat_minor": 5
}
