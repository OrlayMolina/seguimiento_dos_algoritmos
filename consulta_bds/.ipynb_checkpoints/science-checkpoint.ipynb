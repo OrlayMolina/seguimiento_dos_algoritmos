{
 "cells": [
  {
   "cell_type": "code",
   "execution_count": null,
   "id": "ea76b107-725e-4400-9257-7fb1d38f5247",
   "metadata": {},
   "outputs": [],
   "source": [
    "# Iniciar el navegador\n",
    "driver = webdriver.Chrome(options=chrome_options)\n",
    "\n",
    "# Abrir la URL\n",
    "url1 = 'https://login.intelproxy.com/v2/inicio?cuenta=7Ah6RNpGWF22jjyq'\n",
    "driver.get(url1)"
   ]
  },
  {
   "cell_type": "code",
   "execution_count": null,
   "id": "07ad7f36-7c99-429d-800b-876a19121d53",
   "metadata": {},
   "outputs": [],
   "source": [
    "time.sleep(5)"
   ]
  },
  {
   "cell_type": "code",
   "execution_count": null,
   "id": "edf13d26-2572-4095-b6c3-e957c0a841cd",
   "metadata": {},
   "outputs": [],
   "source": [
    "login_button2 = WebDriverWait(driver, 20).until(\n",
    "        EC.element_to_be_clickable((By.XPATH, \"/html/body/div/div/div/div[1]/div[2]/a\")))\n",
    "login_button2.click()"
   ]
  },
  {
   "cell_type": "code",
   "execution_count": null,
   "id": "c42e0c3c-d6b4-42d1-b926-eab2c561630f",
   "metadata": {},
   "outputs": [],
   "source": [
    "time.sleep(5)"
   ]
  },
  {
   "cell_type": "code",
   "execution_count": null,
   "id": "fbed6ae7-e0cd-4ab2-b34b-c95616352b27",
   "metadata": {},
   "outputs": [],
   "source": [
    "email_input = WebDriverWait(driver, 10).until(\n",
    "    EC.element_to_be_clickable((By.ID, \"identifierId\"))\n",
    ")\n",
    "\n",
    "email_input.send_keys(correo)\n",
    "email_input.send_keys(Keys.RETURN)"
   ]
  },
  {
   "cell_type": "code",
   "execution_count": null,
   "id": "f7f9047b-c91b-4e31-bac4-0179f6cde327",
   "metadata": {},
   "outputs": [],
   "source": [
    "time.sleep(3)"
   ]
  },
  {
   "cell_type": "code",
   "execution_count": null,
   "id": "e2680614-59fa-448e-a534-97d7712d5eb1",
   "metadata": {},
   "outputs": [],
   "source": [
    "password_input = WebDriverWait(driver, 10).until(\n",
    "    EC.element_to_be_clickable((By.NAME, \"Passwd\"))\n",
    ")# Nombre del campo de contraseña\n",
    "password_input.send_keys(password)\n",
    "password_input.send_keys(Keys.RETURN)"
   ]
  },
  {
   "cell_type": "code",
   "execution_count": null,
   "id": "650d87c1-db0f-4fd1-b78c-7149412e2201",
   "metadata": {},
   "outputs": [],
   "source": [
    "time.sleep(3)"
   ]
  },
  {
   "cell_type": "code",
   "execution_count": null,
   "id": "3d169be6-b00b-424a-85e5-6b4cc14422c4",
   "metadata": {},
   "outputs": [],
   "source": [
    "# Buscar el botón por su XPath\n",
    "boton = WebDriverWait(driver, 15).until(\n",
    "    EC.element_to_be_clickable((By.XPATH, \"/html/body/div[3]/div[2]/div[3]/div/div[2]/div/main/div[1]/div[5]/div/details[7]/summary\"))\n",
    ")\n",
    "\n",
    "time.sleep(10)\n",
    "\n",
    "boton.click()\n",
    "\n",
    "print(\"Botón presionado exitosamente\")"
   ]
  },
  {
   "cell_type": "code",
   "execution_count": null,
   "id": "fd5936f6-36ec-4c1c-9f38-8d908b05fdb0",
   "metadata": {},
   "outputs": [],
   "source": [
    "time.sleep(2)"
   ]
  },
  {
   "cell_type": "code",
   "execution_count": null,
   "id": "1c5194d8-173a-4992-be23-938f38d967a6",
   "metadata": {},
   "outputs": [],
   "source": [
    "# Buscar el enlacea science direct por su XPath\n",
    "enlaceScience = WebDriverWait(driver, 15).until(\n",
    "    EC.element_to_be_clickable((By.XPATH, \"/html/body/div[3]/div[2]/div[3]/div/div[2]/div/main/div[1]/div[5]/div/details[7]/div/article[16]/div/div/h3/a\"))\n",
    ")\n",
    "enlaceScience.click()"
   ]
  },
  {
   "cell_type": "code",
   "execution_count": null,
   "id": "98425340-bf22-4bc8-94c3-c30de3281224",
   "metadata": {},
   "outputs": [],
   "source": [
    "# Esperar a que la barra de búsqueda esté en el DOM\n",
    "barra_busqueda = WebDriverWait(driver, 15).until(\n",
    "    EC.presence_of_element_located((By.XPATH, \"/html/body/div/div/div[1]/div[2]/div[2]/div/div/form/div[1]/div[1]/div[1]/input\"))\n",
    ")\n",
    "\n",
    "# Escribir \"computational thinking\"\n",
    "barra_busqueda.send_keys('\"computational thinking\"')"
   ]
  },
  {
   "cell_type": "code",
   "execution_count": null,
   "id": "11e34ed8-c954-4841-8609-78791969d8a2",
   "metadata": {},
   "outputs": [],
   "source": [
    "# Esperar a que el botón de búsqueda esté clickeable\n",
    "boton_buscar = WebDriverWait(driver, 10).until(\n",
    "    EC.element_to_be_clickable((By.XPATH, \"/html/body/div/div/div[1]/div[2]/div[2]/div/div/form/div[2]/button\"))\n",
    ")\n",
    "\n",
    "boton_buscar.click()"
   ]
  },
  {
   "cell_type": "code",
   "execution_count": null,
   "id": "dd35146d-eea7-4929-9354-ba7316284d9d",
   "metadata": {},
   "outputs": [],
   "source": [
    "time.sleep(5)"
   ]
  },
  {
   "cell_type": "code",
   "execution_count": null,
   "id": "bd4f146f-ee33-4f9b-b52f-d50b6d68edad",
   "metadata": {},
   "outputs": [],
   "source": [
    "# Función para verificar que la descarga se completó\n",
    "def esperar_descarga(carpeta, tiempo_max=60):\n",
    "    \"\"\"\n",
    "    Espera hasta que aparezca un nuevo archivo .bib en la carpeta de descargas\n",
    "    o hasta que se agote el tiempo máximo.\n",
    "    \"\"\"\n",
    "    inicio = time.time()\n",
    "    archivos_iniciales = set([f for f in os.listdir(carpeta) if f.endswith('.bib')])\n",
    "    \n",
    "    while time.time() - inicio < tiempo_max:\n",
    "        time.sleep(2)  # Comprobar cada 2 segundos\n",
    "        archivos_actuales = set([f for f in os.listdir(carpeta) if f.endswith('.bib')])\n",
    "        nuevos_archivos = archivos_actuales - archivos_iniciales\n",
    "        \n",
    "        if nuevos_archivos:\n",
    "            # Encontró nuevo archivo\n",
    "            nuevo_archivo = list(nuevos_archivos)[0]\n",
    "            return os.path.join(carpeta, nuevo_archivo)\n",
    "        \n",
    "    print(\"⚠️ Tiempo de espera de descarga agotado.\")\n",
    "    return None"
   ]
  },
  {
   "cell_type": "code",
   "execution_count": null,
   "id": "432f2527-be26-475f-b689-75a127bac71d",
   "metadata": {},
   "outputs": [],
   "source": [
    "time.sleep(3)"
   ]
  },
  {
   "cell_type": "code",
   "execution_count": null,
   "id": "0d471282-f30e-4eaf-8ebb-ffbd3a7cc1d9",
   "metadata": {},
   "outputs": [],
   "source": [
    "# Esperar a que el items por page esté presente y clickeable\n",
    "cienItemsPerPage_link = WebDriverWait(driver, 30).until(\n",
    "EC.presence_of_element_located((By.XPATH, '/html/body/div[1]/div/div/div/div/div/div/section/div/div[2]/div[2]/div[1]/div[2]/div[3]/div[1]/ol/li[3]/a'))\n",
    ")"
   ]
  },
  {
   "cell_type": "code",
   "execution_count": null,
   "id": "74718a6b-6a72-406f-b356-41363f4e37b1",
   "metadata": {},
   "outputs": [],
   "source": [
    "cienItemsPerPage_link.click()"
   ]
  },
  {
   "cell_type": "code",
   "execution_count": null,
   "id": "1cd88100-cf8a-4f83-ae49-cb9719b694aa",
   "metadata": {},
   "outputs": [],
   "source": [
    "time.sleep(5)"
   ]
  },
  {
   "cell_type": "code",
   "execution_count": null,
   "id": "2bc9bf02-0741-499b-88d0-e36bc8548e0c",
   "metadata": {},
   "outputs": [],
   "source": [
    "# Bucle para navegar a través de 11 páginas\n",
    "for page_numScience in range(1, 12):\n",
    "    print(f\"Procesando página {page_numScience} de 11...\")\n",
    "\n",
    "    # Seleccionar checkbox usando el selector CSS para la clase\n",
    "    checkbox_items = WebDriverWait(driver, 35).until(\n",
    "        EC.element_to_be_clickable((By.XPATH, \"//section//div[2]/div[2]/div[1]/div[2]/div[1]/div[1]//span[contains(@class, 'checkbox-check')]\"))\n",
    "    )\n",
    "    driver.execute_script(\"arguments[0].click();\", checkbox_items)\n",
    "\n",
    "    # Esperar y hacer clic en el botón de exportación\n",
    "    time.sleep(3)\n",
    "    # Seleccionar el botón Export usando la clase CSS\n",
    "    export_button = WebDriverWait(driver, 10).until(\n",
    "        EC.element_to_be_clickable((By.CSS_SELECTOR, \"span.export-all-link-text\"))\n",
    "    )\n",
    "    driver.execute_script(\"arguments[0].click();\", export_button)\n",
    "\n",
    "    time.sleep(1)\n",
    "\n",
    "    \n",
    "    # Esperar y hacer clic en el botón de descarga\n",
    "    try:\n",
    "        bibtex_button = WebDriverWait(driver, 10).until(\n",
    "            EC.element_to_be_clickable((By.CSS_SELECTOR, \"button[data-aa-button='srp-export-multi-bibtex']\"))\n",
    "        )\n",
    "\n",
    "        intentos_descarga = 0\n",
    "        while intentos_descarga < 3:\n",
    "            bibtex_button.click()\n",
    "            print(f\"Intento de descarga #{intentos_descarga+1} para página {page_numScience}\")\n",
    "\n",
    "            nuevo_archivo = esperar_descarga(download_path, 20)\n",
    "\n",
    "            if nuevo_archivo:\n",
    "                print(f\"✅ Descarga exitosa para página {page_numScience}: {os.path.basename(nuevo_archivo)}\")\n",
    "                nuevo_nombre = f\"science_{page_numScience}.bib\"\n",
    "                try:\n",
    "                    os.rename(nuevo_archivo, os.path.join(download_path, nuevo_nombre))\n",
    "                    print(f\"Archivo renombrado a: {nuevo_nombre}\")\n",
    "                except Exception as e:\n",
    "                    print(f\"Error al renombrar archivo: {e}\")\n",
    "                break  \n",
    "\n",
    "            intentos_descarga += 1\n",
    "\n",
    "        if intentos_descarga >= 3:\n",
    "            print(f\"❌ No se pudo completar la descarga para la página {page_numScience}\")\n",
    "\n",
    "    except Exception as e:\n",
    "        print(f\"⚠️ Error en el proceso de descarga en página {page_numScience}: {e}\")\n",
    "    #esperar a que cargue despues de descargar\n",
    "    time.sleep(3)\n",
    "    #desmarcar el checkbox de seleccion\n",
    "    driver.execute_script(\"arguments[0].click();\", checkbox_items)\n",
    "\n",
    "    time.sleep(2)\n",
    "\n",
    "    # 📌 VERIFICACIÓN: Esperar a que el botón \"Siguiente\" esté disponible antes de hacer clic\n",
    "    if page_numScience < 11:  # Si estamos en la última página, NO hacemos clic en \"Siguiente\"\n",
    "        try:\n",
    "            botonSiguientePag = WebDriverWait(driver, 15).until(\n",
    "                EC.element_to_be_clickable((By.XPATH, \"//a[@data-aa-name='srp-next-page']\"))\n",
    "            )\n",
    "            driver.execute_script(\"arguments[0].click();\", botonSiguientePag)\n",
    "            print(f\"🔄 Avanzando a la página {page_numScience + 1}...\")\n",
    "            time.sleep(5)  # Esperar un poco para asegurar que la página cambia\n",
    "        except Exception as e:\n",
    "            print(f\"⚠️ No se pudo hacer clic en 'Siguiente' en página {page_numScience}: {e}\")\n",
    "\n",
    "print(\"✅ ¡Proceso completado! Se han intentado descargar los datos de 11 páginas.\")"
   ]
  },
  {
   "cell_type": "code",
   "execution_count": null,
   "id": "066315f5-d750-4cf3-b004-896d173761df",
   "metadata": {},
   "outputs": [],
   "source": [
    "driver.quit()"
   ]
  }
 ],
 "metadata": {
  "kernelspec": {
   "display_name": "Python 3 (ipykernel)",
   "language": "python",
   "name": "python3"
  },
  "language_info": {
   "codemirror_mode": {
    "name": "ipython",
    "version": 3
   },
   "file_extension": ".py",
   "mimetype": "text/x-python",
   "name": "python",
   "nbconvert_exporter": "python",
   "pygments_lexer": "ipython3",
   "version": "3.13.2"
  }
 },
 "nbformat": 4,
 "nbformat_minor": 5
}
